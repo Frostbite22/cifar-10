{
  "nbformat": 4,
  "nbformat_minor": 0,
  "metadata": {
    "colab": {
      "provenance": [],
      "include_colab_link": true
    },
    "kernelspec": {
      "name": "python3",
      "display_name": "Python 3"
    },
    "language_info": {
      "name": "python"
    },
    "accelerator": "GPU",
    "gpuClass": "standard",
    "widgets": {
      "application/vnd.jupyter.widget-state+json": {
        "0754aaeb690b44beb76fef7a676d5b4c": {
          "model_module": "@jupyter-widgets/controls",
          "model_name": "HBoxModel",
          "model_module_version": "1.5.0",
          "state": {
            "_dom_classes": [],
            "_model_module": "@jupyter-widgets/controls",
            "_model_module_version": "1.5.0",
            "_model_name": "HBoxModel",
            "_view_count": null,
            "_view_module": "@jupyter-widgets/controls",
            "_view_module_version": "1.5.0",
            "_view_name": "HBoxView",
            "box_style": "",
            "children": [
              "IPY_MODEL_590c81fcaf214b24bbc331a03d9d9c91",
              "IPY_MODEL_d33627f04ebd4e7da3ee47f74c484072",
              "IPY_MODEL_6bd359ce8a4f4c4da110b3c92e2d11a6"
            ],
            "layout": "IPY_MODEL_61de6a2cb2b944df88c2a76ae57742b6"
          }
        },
        "590c81fcaf214b24bbc331a03d9d9c91": {
          "model_module": "@jupyter-widgets/controls",
          "model_name": "HTMLModel",
          "model_module_version": "1.5.0",
          "state": {
            "_dom_classes": [],
            "_model_module": "@jupyter-widgets/controls",
            "_model_module_version": "1.5.0",
            "_model_name": "HTMLModel",
            "_view_count": null,
            "_view_module": "@jupyter-widgets/controls",
            "_view_module_version": "1.5.0",
            "_view_name": "HTMLView",
            "description": "",
            "description_tooltip": null,
            "layout": "IPY_MODEL_f6f804f255ae4acba36527d488079233",
            "placeholder": "​",
            "style": "IPY_MODEL_540d3749f663436e9d68d763237670ec",
            "value": "100%"
          }
        },
        "d33627f04ebd4e7da3ee47f74c484072": {
          "model_module": "@jupyter-widgets/controls",
          "model_name": "FloatProgressModel",
          "model_module_version": "1.5.0",
          "state": {
            "_dom_classes": [],
            "_model_module": "@jupyter-widgets/controls",
            "_model_module_version": "1.5.0",
            "_model_name": "FloatProgressModel",
            "_view_count": null,
            "_view_module": "@jupyter-widgets/controls",
            "_view_module_version": "1.5.0",
            "_view_name": "ProgressView",
            "bar_style": "success",
            "description": "",
            "description_tooltip": null,
            "layout": "IPY_MODEL_508f0c19a30c44eb9f01fd3cff3fb734",
            "max": 170498071,
            "min": 0,
            "orientation": "horizontal",
            "style": "IPY_MODEL_87a14b59b99940349842d08d420c9658",
            "value": 170498071
          }
        },
        "6bd359ce8a4f4c4da110b3c92e2d11a6": {
          "model_module": "@jupyter-widgets/controls",
          "model_name": "HTMLModel",
          "model_module_version": "1.5.0",
          "state": {
            "_dom_classes": [],
            "_model_module": "@jupyter-widgets/controls",
            "_model_module_version": "1.5.0",
            "_model_name": "HTMLModel",
            "_view_count": null,
            "_view_module": "@jupyter-widgets/controls",
            "_view_module_version": "1.5.0",
            "_view_name": "HTMLView",
            "description": "",
            "description_tooltip": null,
            "layout": "IPY_MODEL_3600d80ae1c84d47a47dcd2e0064535a",
            "placeholder": "​",
            "style": "IPY_MODEL_e75b8dcd2a4e4b05befeeeac10842258",
            "value": " 170498071/170498071 [00:06&lt;00:00, 30863623.19it/s]"
          }
        },
        "61de6a2cb2b944df88c2a76ae57742b6": {
          "model_module": "@jupyter-widgets/base",
          "model_name": "LayoutModel",
          "model_module_version": "1.2.0",
          "state": {
            "_model_module": "@jupyter-widgets/base",
            "_model_module_version": "1.2.0",
            "_model_name": "LayoutModel",
            "_view_count": null,
            "_view_module": "@jupyter-widgets/base",
            "_view_module_version": "1.2.0",
            "_view_name": "LayoutView",
            "align_content": null,
            "align_items": null,
            "align_self": null,
            "border": null,
            "bottom": null,
            "display": null,
            "flex": null,
            "flex_flow": null,
            "grid_area": null,
            "grid_auto_columns": null,
            "grid_auto_flow": null,
            "grid_auto_rows": null,
            "grid_column": null,
            "grid_gap": null,
            "grid_row": null,
            "grid_template_areas": null,
            "grid_template_columns": null,
            "grid_template_rows": null,
            "height": null,
            "justify_content": null,
            "justify_items": null,
            "left": null,
            "margin": null,
            "max_height": null,
            "max_width": null,
            "min_height": null,
            "min_width": null,
            "object_fit": null,
            "object_position": null,
            "order": null,
            "overflow": null,
            "overflow_x": null,
            "overflow_y": null,
            "padding": null,
            "right": null,
            "top": null,
            "visibility": null,
            "width": null
          }
        },
        "f6f804f255ae4acba36527d488079233": {
          "model_module": "@jupyter-widgets/base",
          "model_name": "LayoutModel",
          "model_module_version": "1.2.0",
          "state": {
            "_model_module": "@jupyter-widgets/base",
            "_model_module_version": "1.2.0",
            "_model_name": "LayoutModel",
            "_view_count": null,
            "_view_module": "@jupyter-widgets/base",
            "_view_module_version": "1.2.0",
            "_view_name": "LayoutView",
            "align_content": null,
            "align_items": null,
            "align_self": null,
            "border": null,
            "bottom": null,
            "display": null,
            "flex": null,
            "flex_flow": null,
            "grid_area": null,
            "grid_auto_columns": null,
            "grid_auto_flow": null,
            "grid_auto_rows": null,
            "grid_column": null,
            "grid_gap": null,
            "grid_row": null,
            "grid_template_areas": null,
            "grid_template_columns": null,
            "grid_template_rows": null,
            "height": null,
            "justify_content": null,
            "justify_items": null,
            "left": null,
            "margin": null,
            "max_height": null,
            "max_width": null,
            "min_height": null,
            "min_width": null,
            "object_fit": null,
            "object_position": null,
            "order": null,
            "overflow": null,
            "overflow_x": null,
            "overflow_y": null,
            "padding": null,
            "right": null,
            "top": null,
            "visibility": null,
            "width": null
          }
        },
        "540d3749f663436e9d68d763237670ec": {
          "model_module": "@jupyter-widgets/controls",
          "model_name": "DescriptionStyleModel",
          "model_module_version": "1.5.0",
          "state": {
            "_model_module": "@jupyter-widgets/controls",
            "_model_module_version": "1.5.0",
            "_model_name": "DescriptionStyleModel",
            "_view_count": null,
            "_view_module": "@jupyter-widgets/base",
            "_view_module_version": "1.2.0",
            "_view_name": "StyleView",
            "description_width": ""
          }
        },
        "508f0c19a30c44eb9f01fd3cff3fb734": {
          "model_module": "@jupyter-widgets/base",
          "model_name": "LayoutModel",
          "model_module_version": "1.2.0",
          "state": {
            "_model_module": "@jupyter-widgets/base",
            "_model_module_version": "1.2.0",
            "_model_name": "LayoutModel",
            "_view_count": null,
            "_view_module": "@jupyter-widgets/base",
            "_view_module_version": "1.2.0",
            "_view_name": "LayoutView",
            "align_content": null,
            "align_items": null,
            "align_self": null,
            "border": null,
            "bottom": null,
            "display": null,
            "flex": null,
            "flex_flow": null,
            "grid_area": null,
            "grid_auto_columns": null,
            "grid_auto_flow": null,
            "grid_auto_rows": null,
            "grid_column": null,
            "grid_gap": null,
            "grid_row": null,
            "grid_template_areas": null,
            "grid_template_columns": null,
            "grid_template_rows": null,
            "height": null,
            "justify_content": null,
            "justify_items": null,
            "left": null,
            "margin": null,
            "max_height": null,
            "max_width": null,
            "min_height": null,
            "min_width": null,
            "object_fit": null,
            "object_position": null,
            "order": null,
            "overflow": null,
            "overflow_x": null,
            "overflow_y": null,
            "padding": null,
            "right": null,
            "top": null,
            "visibility": null,
            "width": null
          }
        },
        "87a14b59b99940349842d08d420c9658": {
          "model_module": "@jupyter-widgets/controls",
          "model_name": "ProgressStyleModel",
          "model_module_version": "1.5.0",
          "state": {
            "_model_module": "@jupyter-widgets/controls",
            "_model_module_version": "1.5.0",
            "_model_name": "ProgressStyleModel",
            "_view_count": null,
            "_view_module": "@jupyter-widgets/base",
            "_view_module_version": "1.2.0",
            "_view_name": "StyleView",
            "bar_color": null,
            "description_width": ""
          }
        },
        "3600d80ae1c84d47a47dcd2e0064535a": {
          "model_module": "@jupyter-widgets/base",
          "model_name": "LayoutModel",
          "model_module_version": "1.2.0",
          "state": {
            "_model_module": "@jupyter-widgets/base",
            "_model_module_version": "1.2.0",
            "_model_name": "LayoutModel",
            "_view_count": null,
            "_view_module": "@jupyter-widgets/base",
            "_view_module_version": "1.2.0",
            "_view_name": "LayoutView",
            "align_content": null,
            "align_items": null,
            "align_self": null,
            "border": null,
            "bottom": null,
            "display": null,
            "flex": null,
            "flex_flow": null,
            "grid_area": null,
            "grid_auto_columns": null,
            "grid_auto_flow": null,
            "grid_auto_rows": null,
            "grid_column": null,
            "grid_gap": null,
            "grid_row": null,
            "grid_template_areas": null,
            "grid_template_columns": null,
            "grid_template_rows": null,
            "height": null,
            "justify_content": null,
            "justify_items": null,
            "left": null,
            "margin": null,
            "max_height": null,
            "max_width": null,
            "min_height": null,
            "min_width": null,
            "object_fit": null,
            "object_position": null,
            "order": null,
            "overflow": null,
            "overflow_x": null,
            "overflow_y": null,
            "padding": null,
            "right": null,
            "top": null,
            "visibility": null,
            "width": null
          }
        },
        "e75b8dcd2a4e4b05befeeeac10842258": {
          "model_module": "@jupyter-widgets/controls",
          "model_name": "DescriptionStyleModel",
          "model_module_version": "1.5.0",
          "state": {
            "_model_module": "@jupyter-widgets/controls",
            "_model_module_version": "1.5.0",
            "_model_name": "DescriptionStyleModel",
            "_view_count": null,
            "_view_module": "@jupyter-widgets/base",
            "_view_module_version": "1.2.0",
            "_view_name": "StyleView",
            "description_width": ""
          }
        }
      }
    }
  },
  "cells": [
    {
      "cell_type": "markdown",
      "metadata": {
        "id": "view-in-github",
        "colab_type": "text"
      },
      "source": [
        "<a href=\"https://colab.research.google.com/github/Frostbite22/cifar-10/blob/main/CIFAR10.ipynb\" target=\"_parent\"><img src=\"https://colab.research.google.com/assets/colab-badge.svg\" alt=\"Open In Colab\"/></a>"
      ]
    },
    {
      "cell_type": "code",
      "execution_count": null,
      "metadata": {
        "id": "HODgg6eZmyZ_"
      },
      "outputs": [],
      "source": [
        "import torch \n",
        "import torchvision"
      ]
    },
    {
      "cell_type": "code",
      "source": [
        "device = 'cuda' if torch.cuda.is_available() else 'cpu'\n",
        "device"
      ],
      "metadata": {
        "colab": {
          "base_uri": "https://localhost:8080/",
          "height": 35
        },
        "id": "Ar2VkIUZnMgm",
        "outputId": "c5949669-5d8d-4fd6-c5fd-8ca225730a37"
      },
      "execution_count": null,
      "outputs": [
        {
          "output_type": "execute_result",
          "data": {
            "text/plain": [
              "'cuda'"
            ],
            "application/vnd.google.colaboratory.intrinsic+json": {
              "type": "string"
            }
          },
          "metadata": {},
          "execution_count": 2
        }
      ]
    },
    {
      "cell_type": "code",
      "source": [
        "from torchvision import datasets\n",
        "from torchvision.transforms import ToTensor\n",
        "\n",
        "##datasets\n",
        "train_data = datasets.CIFAR10(root='data',\n",
        "                             train=True,\n",
        "                             transform=ToTensor(),\n",
        "                             target_transform=None,\n",
        "                             download=True)\n",
        "\n",
        "test_data = datasets.CIFAR10(root='data',\n",
        "                             train=False,\n",
        "                             transform=ToTensor(),\n",
        "                             target_transform=None,\n",
        "                             download=True\n",
        "                             )"
      ],
      "metadata": {
        "colab": {
          "base_uri": "https://localhost:8080/",
          "height": 101,
          "referenced_widgets": [
            "0754aaeb690b44beb76fef7a676d5b4c",
            "590c81fcaf214b24bbc331a03d9d9c91",
            "d33627f04ebd4e7da3ee47f74c484072",
            "6bd359ce8a4f4c4da110b3c92e2d11a6",
            "61de6a2cb2b944df88c2a76ae57742b6",
            "f6f804f255ae4acba36527d488079233",
            "540d3749f663436e9d68d763237670ec",
            "508f0c19a30c44eb9f01fd3cff3fb734",
            "87a14b59b99940349842d08d420c9658",
            "3600d80ae1c84d47a47dcd2e0064535a",
            "e75b8dcd2a4e4b05befeeeac10842258"
          ]
        },
        "id": "kT6Z49oGoBOw",
        "outputId": "df6a50ad-10b3-4339-f91d-f6a6ed44ff85"
      },
      "execution_count": null,
      "outputs": [
        {
          "output_type": "stream",
          "name": "stdout",
          "text": [
            "Downloading https://www.cs.toronto.edu/~kriz/cifar-10-python.tar.gz to data/cifar-10-python.tar.gz\n"
          ]
        },
        {
          "output_type": "display_data",
          "data": {
            "text/plain": [
              "  0%|          | 0/170498071 [00:00<?, ?it/s]"
            ],
            "application/vnd.jupyter.widget-view+json": {
              "version_major": 2,
              "version_minor": 0,
              "model_id": "0754aaeb690b44beb76fef7a676d5b4c"
            }
          },
          "metadata": {}
        },
        {
          "output_type": "stream",
          "name": "stdout",
          "text": [
            "Extracting data/cifar-10-python.tar.gz to data\n",
            "Files already downloaded and verified\n"
          ]
        }
      ]
    },
    {
      "cell_type": "code",
      "source": [
        "train_data"
      ],
      "metadata": {
        "colab": {
          "base_uri": "https://localhost:8080/"
        },
        "id": "O2OEftQCAtAR",
        "outputId": "24cae009-e6a0-452e-daf2-3dc877b737ba"
      },
      "execution_count": null,
      "outputs": [
        {
          "output_type": "execute_result",
          "data": {
            "text/plain": [
              "Dataset CIFAR10\n",
              "    Number of datapoints: 50000\n",
              "    Root location: data\n",
              "    Split: Train\n",
              "    StandardTransform\n",
              "Transform: ToTensor()"
            ]
          },
          "metadata": {},
          "execution_count": 7
        }
      ]
    },
    {
      "cell_type": "code",
      "source": [
        "test_data"
      ],
      "metadata": {
        "colab": {
          "base_uri": "https://localhost:8080/"
        },
        "id": "9mEOeJoyAx8E",
        "outputId": "04791316-adc3-463b-f80e-d0af6def6a5b"
      },
      "execution_count": null,
      "outputs": [
        {
          "output_type": "execute_result",
          "data": {
            "text/plain": [
              "Dataset CIFAR10\n",
              "    Number of datapoints: 10000\n",
              "    Root location: data\n",
              "    Split: Test\n",
              "    StandardTransform\n",
              "Transform: ToTensor()"
            ]
          },
          "metadata": {},
          "execution_count": 6
        }
      ]
    },
    {
      "cell_type": "code",
      "source": [
        "image, target = train_data[0]"
      ],
      "metadata": {
        "id": "HF5mZPYsq05c"
      },
      "execution_count": null,
      "outputs": []
    },
    {
      "cell_type": "code",
      "source": [
        "image.shape # color channel - width - height "
      ],
      "metadata": {
        "colab": {
          "base_uri": "https://localhost:8080/"
        },
        "id": "wa6yu4q8q8AY",
        "outputId": "b5425b61-3db7-44f9-974d-e86fbe63a9fc"
      },
      "execution_count": null,
      "outputs": [
        {
          "output_type": "execute_result",
          "data": {
            "text/plain": [
              "torch.Size([3, 32, 32])"
            ]
          },
          "metadata": {},
          "execution_count": 8
        }
      ]
    },
    {
      "cell_type": "code",
      "source": [
        "target"
      ],
      "metadata": {
        "colab": {
          "base_uri": "https://localhost:8080/"
        },
        "id": "l2n-2XLa8mEZ",
        "outputId": "13130bf7-af00-4dba-e0e6-1fa373fb5664"
      },
      "execution_count": null,
      "outputs": [
        {
          "output_type": "execute_result",
          "data": {
            "text/plain": [
              "6"
            ]
          },
          "metadata": {},
          "execution_count": 10
        }
      ]
    },
    {
      "cell_type": "code",
      "source": [
        "train_data.classes"
      ],
      "metadata": {
        "colab": {
          "base_uri": "https://localhost:8080/"
        },
        "id": "dpJid94IseLf",
        "outputId": "4d82d6fe-4ad3-4023-d041-715f986e6c20"
      },
      "execution_count": null,
      "outputs": [
        {
          "output_type": "execute_result",
          "data": {
            "text/plain": [
              "['airplane',\n",
              " 'automobile',\n",
              " 'bird',\n",
              " 'cat',\n",
              " 'deer',\n",
              " 'dog',\n",
              " 'frog',\n",
              " 'horse',\n",
              " 'ship',\n",
              " 'truck']"
            ]
          },
          "metadata": {},
          "execution_count": 9
        }
      ]
    },
    {
      "cell_type": "code",
      "source": [
        "train_data.class_to_idx"
      ],
      "metadata": {
        "colab": {
          "base_uri": "https://localhost:8080/"
        },
        "id": "4eSkYlTNspQO",
        "outputId": "9bcedc94-dcc1-49bb-f362-eb81902809ad"
      },
      "execution_count": null,
      "outputs": [
        {
          "output_type": "execute_result",
          "data": {
            "text/plain": [
              "{'airplane': 0,\n",
              " 'automobile': 1,\n",
              " 'bird': 2,\n",
              " 'cat': 3,\n",
              " 'deer': 4,\n",
              " 'dog': 5,\n",
              " 'frog': 6,\n",
              " 'horse': 7,\n",
              " 'ship': 8,\n",
              " 'truck': 9}"
            ]
          },
          "metadata": {},
          "execution_count": 10
        }
      ]
    },
    {
      "cell_type": "code",
      "source": [
        "class_names = train_data.classes\n",
        "class_names"
      ],
      "metadata": {
        "colab": {
          "base_uri": "https://localhost:8080/"
        },
        "id": "-rKWm2pos1bM",
        "outputId": "1ded2565-de3c-4f33-cef7-a96d651081bf"
      },
      "execution_count": null,
      "outputs": [
        {
          "output_type": "execute_result",
          "data": {
            "text/plain": [
              "['airplane',\n",
              " 'automobile',\n",
              " 'bird',\n",
              " 'cat',\n",
              " 'deer',\n",
              " 'dog',\n",
              " 'frog',\n",
              " 'horse',\n",
              " 'ship',\n",
              " 'truck']"
            ]
          },
          "metadata": {},
          "execution_count": 11
        }
      ]
    },
    {
      "cell_type": "code",
      "source": [
        "import matplotlib.pyplot as plt\n",
        "\n",
        "plt.imshow(image.permute(1,2,0))\n",
        "plt.axis(False)\n",
        "plt.title(class_names[target])"
      ],
      "metadata": {
        "colab": {
          "base_uri": "https://localhost:8080/",
          "height": 281
        },
        "id": "mzXuI711rpjq",
        "outputId": "38a954fc-c9ba-4db8-8c79-4bba129bacb3"
      },
      "execution_count": null,
      "outputs": [
        {
          "output_type": "execute_result",
          "data": {
            "text/plain": [
              "Text(0.5, 1.0, 'frog')"
            ]
          },
          "metadata": {},
          "execution_count": 12
        },
        {
          "output_type": "display_data",
          "data": {
            "text/plain": [
              "<Figure size 432x288 with 1 Axes>"
            ],
            "image/png": "[encoded data removed]"
          },
          "metadata": {
            "needs_background": "light"
          }
        }
      ]
    },
    {
      "cell_type": "code",
      "source": [
        "## FROM datasets to DataLoaders\n",
        "from torch.utils.data import DataLoader \n",
        "import os\n",
        "\n",
        "NUM_WORKERS = os.cpu_count()\n",
        "BATCH_SIZE=64 \n",
        "\n",
        "train_dataloader = DataLoader(dataset=train_data,\n",
        "                              batch_size=BATCH_SIZE,\n",
        "                              shuffle=True,\n",
        "                              num_workers=NUM_WORKERS)\n",
        "\n",
        "test_dataloader = DataLoader(dataset=test_data,\n",
        "                             batch_size=BATCH_SIZE,\n",
        "                             shuffle=False,\n",
        "                             num_workers=NUM_WORKERS)"
      ],
      "metadata": {
        "id": "r_eJhhTvr4k4"
      },
      "execution_count": null,
      "outputs": []
    },
    {
      "cell_type": "code",
      "source": [
        "train_features_batch, train_labels_batch  = next(iter(train_dataloader))"
      ],
      "metadata": {
        "id": "CV4vCKH4uBTi"
      },
      "execution_count": null,
      "outputs": []
    },
    {
      "cell_type": "code",
      "source": [
        "train_features_batch.shape, train_labels_batch.shape"
      ],
      "metadata": {
        "colab": {
          "base_uri": "https://localhost:8080/"
        },
        "id": "kTyAZva6wDCB",
        "outputId": "ada06a63-fc81-4a90-c020-a53e1989b99a"
      },
      "execution_count": null,
      "outputs": [
        {
          "output_type": "execute_result",
          "data": {
            "text/plain": [
              "(torch.Size([64, 3, 32, 32]), torch.Size([64]))"
            ]
          },
          "metadata": {},
          "execution_count": 15
        }
      ]
    },
    {
      "cell_type": "code",
      "source": [
        "import torch.nn as nn\n",
        "\n",
        "class ResNet18(nn.Module):\n",
        "    def __init__(self, input_shape : int,\n",
        "                hidden_units : int,\n",
        "                output_shape : int):\n",
        "        super(ResNet18,self).__init__()\n",
        "\n",
        "        self.conv1 = nn.Conv2d(input_shape, hidden_units, kernel_size=3, stride=1, padding=1)\n",
        "        self.bn1 = nn.BatchNorm2d(hidden_units)\n",
        "        self.layer1 = nn.Sequential(\n",
        "            nn.Conv2d(hidden_units, hidden_units, kernel_size=3, stride=1, padding=1),\n",
        "            nn.BatchNorm2d(hidden_units),\n",
        "            nn.ReLU(),\n",
        "            nn.Conv2d(hidden_units, hidden_units, kernel_size=3, stride=1, padding=1,),\n",
        "            nn.BatchNorm2d(hidden_units),        \n",
        "            nn.ReLU()\n",
        "        )\n",
        "        self.layer2 = nn.Sequential(\n",
        "            nn.Conv2d(hidden_units, hidden_units*2, kernel_size=3, stride=2, padding=1),\n",
        "            nn.BatchNorm2d(hidden_units*2),\n",
        "            nn.ReLU(),\n",
        "            nn.Conv2d(hidden_units*2, hidden_units*2, kernel_size=3, stride=1, padding=1),\n",
        "            nn.BatchNorm2d(hidden_units*2),\n",
        "            nn.ReLU()\n",
        "        )\n",
        "        self.layer3 = nn.Sequential(\n",
        "            nn.Conv2d(hidden_units*2, hidden_units*4, kernel_size=3, stride=2, padding=1),\n",
        "            nn.BatchNorm2d(hidden_units*4),\n",
        "            nn.ReLU(),\n",
        "            nn.Conv2d(hidden_units*4, hidden_units*4, kernel_size=3, stride=1, padding=1),\n",
        "            nn.BatchNorm2d(hidden_units*4),\n",
        "            nn.ReLU()\n",
        "        )\n",
        "        self.avgpool = nn.AdaptiveAvgPool2d((1, 1))\n",
        "        self.fc = nn.Linear(hidden_units*4, output_shape)\n",
        "        self.dropout = nn.Dropout()\n",
        "\n",
        "    def forward(self, x):\n",
        "        x = self.conv1(x)\n",
        "        x = self.bn1(x)\n",
        "        x = self.layer1(x) \n",
        "        x = self.layer2(x) \n",
        "        x = self.dropout(x)\n",
        "        x = self.layer3(x) \n",
        "        x = self.avgpool(x)\n",
        "        x = x.view(x.size(0), -1)\n",
        "        x = self.fc(x)\n",
        "        return x\n"
      ],
      "metadata": {
        "id": "9ZYIw5bYxbgA"
      },
      "execution_count": null,
      "outputs": []
    },
    {
      "cell_type": "code",
      "source": [
        "torch.manual_seed(42)\n",
        "model_1 = ResNet18(input_shape=3,\n",
        "                hidden_units=16,\n",
        "                output_shape=len(class_names)).to(device)\n",
        "\n",
        "model_1"
      ],
      "metadata": {
        "colab": {
          "base_uri": "https://localhost:8080/"
        },
        "id": "9SWFmiT3RRXv",
        "outputId": "a6175d41-2fa0-4fdc-f99b-8934bbec9d53"
      },
      "execution_count": null,
      "outputs": [
        {
          "output_type": "execute_result",
          "data": {
            "text/plain": [
              "ResNet18(\n",
              "  (conv1): Conv2d(3, 16, kernel_size=(3, 3), stride=(1, 1), padding=(1, 1))\n",
              "  (bn1): BatchNorm2d(16, eps=1e-05, momentum=0.1, affine=True, track_running_stats=True)\n",
              "  (layer1): Sequential(\n",
              "    (0): Conv2d(16, 16, kernel_size=(3, 3), stride=(1, 1), padding=(1, 1))\n",
              "    (1): BatchNorm2d(16, eps=1e-05, momentum=0.1, affine=True, track_running_stats=True)\n",
              "    (2): ReLU()\n",
              "    (3): Conv2d(16, 16, kernel_size=(3, 3), stride=(1, 1), padding=(1, 1))\n",
              "    (4): BatchNorm2d(16, eps=1e-05, momentum=0.1, affine=True, track_running_stats=True)\n",
              "    (5): ReLU()\n",
              "  )\n",
              "  (layer2): Sequential(\n",
              "    (0): Conv2d(16, 32, kernel_size=(3, 3), stride=(2, 2), padding=(1, 1))\n",
              "    (1): BatchNorm2d(32, eps=1e-05, momentum=0.1, affine=True, track_running_stats=True)\n",
              "    (2): ReLU()\n",
              "    (3): Conv2d(32, 32, kernel_size=(3, 3), stride=(1, 1), padding=(1, 1))\n",
              "    (4): BatchNorm2d(32, eps=1e-05, momentum=0.1, affine=True, track_running_stats=True)\n",
              "    (5): ReLU()\n",
              "  )\n",
              "  (layer3): Sequential(\n",
              "    (0): Conv2d(32, 64, kernel_size=(3, 3), stride=(2, 2), padding=(1, 1))\n",
              "    (1): BatchNorm2d(64, eps=1e-05, momentum=0.1, affine=True, track_running_stats=True)\n",
              "    (2): ReLU()\n",
              "    (3): Conv2d(64, 64, kernel_size=(3, 3), stride=(1, 1), padding=(1, 1))\n",
              "    (4): BatchNorm2d(64, eps=1e-05, momentum=0.1, affine=True, track_running_stats=True)\n",
              "    (5): ReLU()\n",
              "  )\n",
              "  (avgpool): AdaptiveAvgPool2d(output_size=(1, 1))\n",
              "  (fc): Linear(in_features=64, out_features=10, bias=True)\n",
              "  (dropout): Dropout(p=0.5, inplace=False)\n",
              ")"
            ]
          },
          "metadata": {},
          "execution_count": 78
        }
      ]
    },
    {
      "cell_type": "code",
      "source": [
        "model_1(train_features_batch.to(device))"
      ],
      "metadata": {
        "colab": {
          "base_uri": "https://localhost:8080/"
        },
        "id": "abirMvUORbje",
        "outputId": "1f1b9c7f-41ab-4f6e-9b9b-2b8fad923d08"
      },
      "execution_count": null,
      "outputs": [
        {
          "output_type": "execute_result",
          "data": {
            "text/plain": [
              "tensor([[-2.0163e-01, -2.2079e-01, -6.7520e-02, -4.1391e-01,  3.3101e-01,\n",
              "         -3.1189e-01,  1.3120e-01, -5.0141e-02,  6.4887e-02, -6.6448e-03],\n",
              "        [-1.6256e-01, -5.7643e-02, -9.9241e-02, -3.5894e-01,  2.5961e-01,\n",
              "         -2.7096e-01,  2.2253e-01,  1.8098e-02,  9.4026e-03, -5.9751e-02],\n",
              "        [-2.3777e-01, -1.5253e-01, -1.1960e-01, -3.4749e-01,  2.5868e-01,\n",
              "         -2.3840e-01,  2.1353e-01,  5.7341e-02,  8.9275e-02,  2.2657e-02],\n",
              "        [-3.6350e-01, -3.1065e-01,  6.1622e-03, -4.2324e-01,  4.3631e-01,\n",
              "         -2.6926e-01,  3.0935e-01, -9.5368e-02,  9.2652e-02,  9.0214e-02],\n",
              "        [-5.1625e-01, -3.4908e-01,  3.5866e-02, -4.5021e-01,  4.3485e-01,\n",
              "         -1.9960e-01,  4.2971e-01, -1.3027e-02,  1.6659e-01, -3.3246e-02],\n",
              "        [-4.7545e-01, -2.6688e-01,  2.5642e-02, -3.8026e-01,  3.4248e-01,\n",
              "         -1.1947e-01,  2.6343e-01, -9.9267e-03,  1.7409e-01,  7.8667e-02],\n",
              "        [-2.3791e-01, -4.1080e-02, -1.1610e-01, -4.5374e-01,  2.9463e-01,\n",
              "         -3.7774e-01,  4.5161e-01,  2.0122e-02,  5.7318e-03, -2.0164e-01],\n",
              "        [-4.0603e-01, -1.6958e-01, -2.9399e-02, -3.1120e-01,  3.1102e-01,\n",
              "         -2.0375e-01,  2.2951e-01,  2.7892e-02,  7.0841e-02, -6.7122e-03],\n",
              "        [-2.3147e-01, -1.9990e-01, -7.4781e-02, -3.9719e-01,  2.9526e-01,\n",
              "         -8.6052e-02,  1.9479e-01,  3.1931e-02,  2.0178e-01, -4.6821e-04],\n",
              "        [-2.0830e-01, -1.7055e-01, -7.3230e-02, -3.1545e-01,  3.0047e-01,\n",
              "         -2.3685e-01,  1.6054e-01, -7.2963e-03,  7.1462e-02,  1.4165e-02],\n",
              "        [-2.0769e-01, -4.2064e-02, -1.8618e-01, -3.4797e-01,  1.9617e-01,\n",
              "         -3.0982e-01,  2.6423e-01, -2.9930e-03,  9.4892e-02, -9.8328e-02],\n",
              "        [-3.0426e-01, -1.3833e-01, -9.8677e-02, -5.0082e-01,  2.9798e-01,\n",
              "         -1.5552e-01,  2.8860e-01,  4.8618e-04,  9.0617e-02, -1.1001e-02],\n",
              "        [-2.5972e-01, -2.1039e-01, -2.1555e-02, -4.3815e-01,  3.0539e-01,\n",
              "         -1.7402e-01,  2.8284e-01, -1.9998e-02,  9.3241e-02,  3.1608e-02],\n",
              "        [-2.7762e-01, -2.5154e-01, -9.5781e-02, -4.9494e-01,  3.5838e-01,\n",
              "         -1.8457e-01,  2.5570e-01, -2.3025e-04,  1.7316e-01, -1.4293e-02],\n",
              "        [-1.9316e-01, -7.4356e-02, -8.8403e-02, -4.3879e-01,  2.1519e-01,\n",
              "         -2.9785e-01,  3.2820e-01,  4.3719e-02,  6.1570e-02, -1.0724e-01],\n",
              "        [-3.6202e-01, -2.5175e-01,  1.3486e-03, -3.8274e-01,  4.7914e-01,\n",
              "         -1.9153e-01,  2.6178e-01,  3.2525e-03,  1.4770e-01, -2.6643e-02],\n",
              "        [-3.1105e-01, -1.0296e-01, -1.1416e-01, -4.3699e-01,  3.1808e-01,\n",
              "         -1.9335e-01,  3.7881e-01, -6.1036e-03,  6.9694e-02, -5.5409e-02],\n",
              "        [-3.2592e-01, -1.6212e-01,  6.9074e-03, -3.5987e-01,  3.7134e-01,\n",
              "         -2.6168e-01,  2.1569e-01, -6.1963e-02,  1.1883e-01,  3.4676e-02],\n",
              "        [-1.1843e-01, -9.6871e-02, -1.7871e-01, -4.0226e-01,  2.9543e-01,\n",
              "         -2.2623e-01,  2.3873e-01, -2.0501e-02,  7.8888e-02, -3.7945e-02],\n",
              "        [-1.8848e-01, -8.6871e-02, -1.5103e-01, -3.3216e-01,  2.1434e-01,\n",
              "         -2.8999e-01,  1.7726e-01,  5.8173e-02,  4.7982e-02,  4.1765e-02],\n",
              "        [-2.1657e-01, -1.2756e-01, -7.6612e-02, -4.4080e-01,  3.3839e-01,\n",
              "         -3.1909e-01,  2.3503e-01, -7.9383e-04,  1.3521e-01, -7.0778e-02],\n",
              "        [-1.7125e-01, -1.4940e-01, -1.0263e-01, -3.0698e-01,  2.5235e-01,\n",
              "         -1.8321e-01,  1.4449e-01,  4.1920e-02,  8.6836e-02,  8.5086e-02],\n",
              "        [-2.3165e-01, -6.4087e-02, -6.1148e-02, -3.1821e-01,  2.2232e-01,\n",
              "         -2.0219e-01,  1.9019e-01, -4.9284e-03,  1.7508e-02,  4.6168e-03],\n",
              "        [-1.8850e-01, -8.9248e-02, -1.8524e-01, -2.8272e-01,  2.5187e-01,\n",
              "         -2.7175e-01,  2.2166e-01,  1.1796e-02,  4.1453e-02, -7.7196e-02],\n",
              "        [-2.0998e-01, -2.0484e-01, -4.9523e-02, -5.1511e-01,  3.6575e-01,\n",
              "         -1.7341e-01,  2.6626e-01, -6.5008e-02,  1.0290e-01,  1.8301e-02],\n",
              "        [-2.9011e-01, -1.7416e-01, -4.2015e-02, -3.3163e-01,  3.8301e-01,\n",
              "         -1.7671e-01,  2.3583e-01,  3.5921e-02,  1.6835e-01,  1.2302e-02],\n",
              "        [-1.5699e-01, -1.8135e-01, -7.9957e-02, -3.4179e-01,  3.7035e-01,\n",
              "         -2.9965e-01,  2.5898e-01,  6.0385e-04,  7.7911e-02,  8.7372e-03],\n",
              "        [-9.4573e-02, -1.2092e-01, -1.8052e-01, -3.9356e-01,  2.7404e-01,\n",
              "         -2.8839e-01,  2.4944e-01, -1.3055e-02,  2.2837e-02, -7.8417e-03],\n",
              "        [-2.7410e-01, -1.4577e-01, -1.7962e-03, -3.7652e-01,  2.6988e-01,\n",
              "         -2.4264e-01,  2.3687e-01, -2.1316e-02,  7.4096e-02,  2.4988e-03],\n",
              "        [-6.1342e-01, -3.8411e-01,  5.9433e-02, -8.8901e-01,  5.9073e-01,\n",
              "         -1.9437e-01,  6.8732e-01, -2.1228e-02,  2.0922e-01, -8.3172e-02],\n",
              "        [-2.6952e-01, -3.5305e-01, -1.6048e-01, -5.7142e-01,  3.9071e-01,\n",
              "         -2.4517e-01,  2.0112e-01, -7.4143e-02,  2.0647e-01, -4.3119e-02],\n",
              "        [-2.6812e-01, -1.9189e-01, -7.4564e-02, -4.0449e-01,  3.3519e-01,\n",
              "         -1.2727e-01,  2.1470e-01,  9.7308e-03,  1.2093e-01,  4.3686e-02],\n",
              "        [-1.3339e-01, -1.0121e-01, -1.1959e-01, -4.2136e-01,  2.0184e-01,\n",
              "         -2.9726e-01,  2.3311e-01,  3.8997e-02,  1.1425e-01, -7.5278e-02],\n",
              "        [-2.0606e-01, -1.4058e-01, -1.0822e-01, -3.2034e-01,  2.8293e-01,\n",
              "         -1.7750e-01,  8.2422e-02,  6.7268e-02,  8.1583e-02,  6.4995e-02],\n",
              "        [-1.4537e-01, -5.8753e-02, -7.3500e-02, -3.5731e-01,  1.7293e-01,\n",
              "         -2.2976e-01,  2.0164e-01,  8.3774e-03,  2.0352e-02,  1.8706e-02],\n",
              "        [-3.7800e-01, -1.7913e-01, -8.2323e-03, -4.0665e-01,  3.6135e-01,\n",
              "         -2.0532e-01,  2.3193e-01, -1.2679e-02,  1.1751e-01,  9.4350e-02],\n",
              "        [-1.7958e-01, -1.0161e-01, -1.9629e-01, -3.8737e-01,  2.6530e-01,\n",
              "         -2.3587e-01,  1.5831e-01,  4.1275e-02,  5.2103e-02,  8.6647e-02],\n",
              "        [-6.3749e-01, -2.8917e-01, -2.7539e-03, -4.6224e-01,  4.8782e-01,\n",
              "         -2.7456e-01,  4.6868e-01, -4.8267e-02,  1.8804e-01, -1.6764e-02],\n",
              "        [-5.1160e-01, -2.5001e-01,  1.3298e-01, -3.8320e-01,  4.4210e-01,\n",
              "         -1.7699e-01,  3.3195e-01, -5.3578e-03,  2.4731e-01,  1.5062e-02],\n",
              "        [-3.4576e-01, -6.6106e-02, -9.5905e-02, -3.6771e-01,  2.6247e-01,\n",
              "         -3.2612e-01,  2.5500e-01, -2.6433e-02,  5.1537e-02, -1.5190e-02],\n",
              "        [-1.3814e-01, -1.4519e-01, -1.4109e-01, -3.8571e-01,  2.6919e-01,\n",
              "         -2.5385e-01,  1.6837e-01,  9.6653e-03,  1.3929e-01,  3.3779e-02],\n",
              "        [-1.5743e-01, -1.1498e-01, -1.5480e-01, -3.5756e-01,  2.2684e-01,\n",
              "         -2.3167e-01,  1.5610e-01,  7.2862e-02,  1.1584e-01,  2.8260e-02],\n",
              "        [-1.9479e-01, -4.4043e-02, -1.2046e-01, -3.9652e-01,  2.1334e-01,\n",
              "         -2.5430e-01,  2.5124e-01,  2.9729e-02,  6.5385e-02, -1.1122e-01],\n",
              "        [-5.5212e-01, -1.7540e-02,  1.4934e-01, -7.2620e-01,  3.0916e-01,\n",
              "         -2.7796e-01,  5.2134e-01, -4.7148e-02,  1.6821e-01, -6.4811e-02],\n",
              "        [-3.4727e-01, -2.2842e-01,  1.7906e-02, -2.7557e-01,  2.8620e-01,\n",
              "         -2.6226e-01,  1.1021e-01, -1.1159e-01,  1.9474e-01,  4.8497e-02],\n",
              "        [-3.4161e-01, -2.2008e-01, -5.3637e-02, -4.0296e-01,  3.7416e-01,\n",
              "         -1.2933e-01,  2.3900e-01,  2.7756e-02,  1.9256e-01, -6.4968e-02],\n",
              "        [-2.8386e-01, -9.8549e-02, -9.5157e-02, -3.6886e-01,  2.5298e-01,\n",
              "         -2.5342e-01,  1.4757e-01, -1.4265e-02,  6.1632e-02,  4.2421e-02],\n",
              "        [-1.9600e-01, -1.0831e-01, -1.1122e-01, -4.7692e-01,  3.1688e-01,\n",
              "         -2.9895e-01,  2.8701e-01, -2.0430e-02,  7.7022e-02, -7.5492e-02],\n",
              "        [-3.2993e-01, -2.6164e-01, -1.6710e-01, -5.8064e-01,  3.7546e-01,\n",
              "         -1.4317e-01,  3.7088e-01,  1.9637e-02,  2.5978e-01,  3.1552e-02],\n",
              "        [-2.7780e-01, -8.8244e-02, -1.3678e-01, -3.9630e-01,  2.8866e-01,\n",
              "         -3.4825e-01,  1.0263e-01, -4.4769e-02,  1.6214e-01, -1.5857e-01],\n",
              "        [-1.2814e-01, -8.1300e-02, -1.2030e-01, -3.0501e-01,  3.0325e-01,\n",
              "         -2.4168e-01,  2.2923e-01, -9.6679e-04, -1.5500e-02,  6.5340e-02],\n",
              "        [-1.9638e-01, -1.5664e-01, -5.2274e-02, -3.3788e-01,  3.0124e-01,\n",
              "         -1.9030e-01,  1.6303e-01,  3.1743e-02,  9.7598e-02,  8.4941e-02],\n",
              "        [-1.6052e-01, -6.6323e-02, -1.9054e-01, -3.0466e-01,  2.6490e-01,\n",
              "         -2.7733e-01,  1.0821e-01, -1.0307e-02,  7.5818e-02, -1.7021e-02],\n",
              "        [-3.0617e-01, -2.5058e-01,  1.2614e-01, -2.9361e-01,  3.8101e-01,\n",
              "         -2.2320e-01,  1.2182e-01, -7.9851e-02,  1.6225e-01,  5.3150e-02],\n",
              "        [-2.0699e-01, -1.2451e-01, -2.4664e-02, -3.2200e-01,  2.9970e-01,\n",
              "         -2.5348e-01,  2.5952e-01, -6.7608e-02,  1.0392e-01, -1.7127e-02],\n",
              "        [-1.2589e-01, -9.1237e-02, -1.4421e-01, -4.4583e-01,  2.2475e-01,\n",
              "         -2.6255e-01,  2.8009e-01,  5.3249e-02,  8.3316e-02, -2.9951e-02],\n",
              "        [-3.8866e-01, -2.4722e-01, -5.1130e-02, -3.5755e-01,  3.9275e-01,\n",
              "         -1.7126e-01,  2.7870e-01,  2.0457e-02,  8.8306e-02, -1.1004e-01],\n",
              "        [-1.2303e-01, -1.1778e-01, -1.5912e-01, -3.3351e-01,  2.6063e-01,\n",
              "         -2.0781e-01,  2.2046e-01,  7.5020e-02,  8.5317e-02, -1.4813e-03],\n",
              "        [-1.8453e-01, -8.5683e-02, -4.2244e-02, -4.3029e-01,  2.0632e-01,\n",
              "         -2.1969e-01,  2.0212e-01, -6.5109e-02,  5.1749e-02, -4.4548e-02],\n",
              "        [-1.6070e-01, -1.2878e-01, -9.7701e-02, -3.6998e-01,  2.7727e-01,\n",
              "         -2.0062e-01,  2.0673e-01,  2.4339e-02,  1.4361e-01,  1.0394e-02],\n",
              "        [-2.7008e-01, -2.4529e-01, -9.6964e-02, -3.7192e-01,  4.0564e-01,\n",
              "         -2.0149e-01,  2.5389e-01,  1.5717e-02,  9.8918e-02,  5.1296e-02],\n",
              "        [-6.6228e-02, -1.0556e-01, -1.1681e-01, -4.5111e-01,  1.6297e-01,\n",
              "         -1.9484e-01,  2.7335e-01, -1.8167e-02,  1.6009e-02, -8.0845e-02],\n",
              "        [-3.0563e-01, -2.7924e-01, -8.6711e-02, -3.5586e-01,  3.9065e-01,\n",
              "         -2.1170e-01,  2.6738e-01, -3.2702e-02,  1.1737e-01, -4.8034e-02],\n",
              "        [-4.2018e-01, -2.5250e-01, -1.9948e-02, -4.1615e-01,  3.2783e-01,\n",
              "         -2.0666e-01,  3.1374e-01,  1.4075e-02,  1.9590e-01,  4.8233e-03]],\n",
              "       device='cuda:0', grad_fn=<AddmmBackward0>)"
            ]
          },
          "metadata": {},
          "execution_count": 79
        }
      ]
    },
    {
      "cell_type": "code",
      "source": [
        "!pip install torchinfo"
      ],
      "metadata": {
        "id": "stVB_RbfSfU3"
      },
      "execution_count": null,
      "outputs": []
    },
    {
      "cell_type": "code",
      "source": [
        "from torchinfo import summary\n",
        "\n",
        "summary(model_1,input_size=(BATCH_SIZE,3,32,32))"
      ],
      "metadata": {
        "id": "JBn9avziU9So"
      },
      "execution_count": null,
      "outputs": []
    },
    {
      "cell_type": "code",
      "source": [
        "# Create train and test loops functions \n",
        "def train_step(model: torch.nn.Module,\n",
        "               dataloader : torch.utils.data.DataLoader,\n",
        "               loss_fn: torch.nn.Module,\n",
        "               optimizer: torch.optim.Optimizer,\n",
        "               device=device):\n",
        "  #put the model in train mode \n",
        "  model.train()\n",
        "  #setup train loss and train accuracy values \n",
        "  train_loss, train_acc = 0,0 \n",
        "  #Loop through data loader data batchtes \n",
        "  for batch, (X,y) in enumerate(dataloader):\n",
        "    #send data to the target device \n",
        "    X,y = X.to(device), y.to(device)\n",
        "    #1.forward pass\n",
        "    y_pred = model(X) #output model logits\n",
        "    #2.Calculate the loss\n",
        "    loss = loss_fn(y_pred,y)\n",
        "    train_loss += loss.item()\n",
        "    #3.Optimizer zero grad \n",
        "    optimizer.zero_grad()\n",
        "    #4.loss backward\n",
        "    loss.backward()\n",
        "    #5. Optimizer step\n",
        "    optimizer.step()\n",
        "\n",
        "    #calculate accuracy metric \n",
        "    y_pred_class = torch.argmax(torch.softmax(y_pred,dim=1),dim=1)\n",
        "    train_acc += (y_pred_class==y).sum().item()/len(y_pred)\n",
        "  \n",
        "  #Adjust metrics to get average loss and accuracy per batch \n",
        "  train_loss = train_loss /len(dataloader)\n",
        "  train_acc = train_acc / len(dataloader)\n",
        "  return train_loss, train_acc \n"
      ],
      "metadata": {
        "id": "q8lkcBB4VRgz"
      },
      "execution_count": null,
      "outputs": []
    },
    {
      "cell_type": "code",
      "source": [
        "#Create a test step function \n",
        "def test_step(model: torch.nn.Module,\n",
        "              dataloader : torch.utils.data.DataLoader,\n",
        "              loss_fn: torch.nn.Module,\n",
        "              optimizer: torch.optim.Optimizer,\n",
        "              device=device):\n",
        "  #put model in eval model \n",
        "  model.eval()\n",
        "  #setup test loss and test accuracy values \n",
        "  test_loss, test_acc = 0,0\n",
        "  #Turn on inference model \n",
        "  with torch.inference_mode():\n",
        "    #Loop through Dataloader batches \n",
        "    for batch, (X,y) in enumerate(dataloader):\n",
        "      X,y = X.to(device), y.to(device)\n",
        "      #1.forward pass\n",
        "      test_pred_logits = model(X)\n",
        "      #2.Calculate the loss \n",
        "      loss = loss_fn(test_pred_logits,y)\n",
        "      test_loss += loss.item()\n",
        "      #calculate the accuracy \n",
        "      test_pred_labels = test_pred_logits.argmax(dim=1)\n",
        "      test_acc += (test_pred_labels==y).sum().item() / len(test_pred_labels)\n",
        "\n",
        "  #Adujust metrics to get average loss and accuracy per batch \n",
        "  test_loss = test_loss / len(dataloader) \n",
        "  test_acc = test_acc / len(dataloader) \n",
        "  return test_loss , test_acc  "
      ],
      "metadata": {
        "id": "2ZF-8SLqgFs6"
      },
      "execution_count": null,
      "outputs": []
    },
    {
      "cell_type": "code",
      "source": [
        "from tqdm.auto import tqdm\n",
        "\n",
        "def train(model : torch.nn.Module,\n",
        "          train_dataloader : torch.utils.data.DataLoader,\n",
        "          test_dataloader : torch.utils.data.DataLoader, \n",
        "          loss_fn : torch.nn.Module,\n",
        "          optimizer : torch.optim.Optimizer,\n",
        "          epochs : int = 5, \n",
        "          device = device):\n",
        "  #create empty results dict \n",
        "  results = {\"train_loss\": [],\n",
        "             \"train_acc\": [],\n",
        "             \"test_loss\": [],\n",
        "             \"test_acc\": []}\n",
        "\n",
        "  #loop through training and testing steps for a number of epochs \n",
        "  for epoch in tqdm(range(epochs)):\n",
        "    train_loss, train_acc = train_step(model=model,\n",
        "                                       dataloader= train_dataloader,\n",
        "                                       loss_fn=loss_fn,\n",
        "                                       optimizer=optimizer,\n",
        "                                       device=device)\n",
        "    test_loss, test_acc = test_step(model=model,\n",
        "                                    dataloader= test_dataloader,\n",
        "                                    loss_fn=loss_fn,\n",
        "                                    optimizer= optimizer, \n",
        "                                    device=device) \n",
        "\n",
        "    #print out \n",
        "    print(f'Epoch : {epoch} | train loss: {train_loss: .4f} | Train acc : {train_acc : .4f} | Test loss : {test_loss : .4f} | Test acc : {test_acc :.4f} ')\n",
        "\n",
        "    #Update results dictionary \n",
        "    results['train_loss'].append(train_loss)\n",
        "    results['train_acc'].append(train_acc)\n",
        "    results['test_loss'].append(test_loss) \n",
        "    results['test_acc'].append(test_acc)\n",
        "  \n",
        "  #Return the filled results at the end of the epochs \n",
        "  return results\n",
        "\n",
        "  "
      ],
      "metadata": {
        "id": "0sLIE3ZCp0Xo"
      },
      "execution_count": null,
      "outputs": []
    },
    {
      "cell_type": "code",
      "source": [
        "#Train and evaluate model 1\n",
        "torch.manual_seed(42)\n",
        "torch.cuda.manual_seed(42)\n",
        "\n",
        "#Set number of epochs \n",
        "NUM_EPOCHS = 30\n",
        "\n",
        "#Recreate an instance of tinyVGG\n",
        "model_1  = ResNet18(input_shape=3,\n",
        "                   hidden_units=24,\n",
        "                   output_shape=len(train_data.classes)).to(device)\n",
        "\n",
        "#Setup loss funcion and optimizer \n",
        "loss_fn = nn.CrossEntropyLoss()\n",
        "optimizer = torch.optim.Adam(params=model_1.parameters(),\n",
        "                             lr=0.001)\n",
        "\n",
        "# Start the timer \n",
        "from timeit import default_timer as timer \n",
        "start_time = timer()\n",
        "\n",
        "#Train model 1 \n",
        "model_1_results = train(model=model_1,\n",
        "                        train_dataloader=train_dataloader,\n",
        "                        test_dataloader=test_dataloader,\n",
        "                        loss_fn=loss_fn,\n",
        "                        optimizer=optimizer,\n",
        "                        epochs=NUM_EPOCHS)\n",
        "\n",
        "#End the timer and print out how long it took \n",
        "end_time = timer()\n",
        "print(f'Total training time : {end_time - start_time:.3f} seconds')"
      ],
      "metadata": {
        "id": "dW-UpLo7Qy6-"
      },
      "execution_count": null,
      "outputs": []
    },
    {
      "cell_type": "code",
      "source": [
        "from pathlib import Path \n",
        "\n",
        "#Create model directory \n",
        "MODEL_PATH = Path('model')\n",
        "MODEL_PATH.mkdir(parents=True,\n",
        "                 exist_ok=True)\n",
        "\n",
        "MODEL_NAME = 'resnet18.pth'\n",
        "MODEL_SAVE_PATH = MODEL_PATH / MODEL_NAME\n"
      ],
      "metadata": {
        "id": "wa_qiGUASIZa"
      },
      "execution_count": null,
      "outputs": []
    },
    {
      "cell_type": "code",
      "source": [
        "#Saving the model\n",
        "\n",
        "torch.save(obj=model_1.state_dict(),\n",
        "           f=MODEL_SAVE_PATH)"
      ],
      "metadata": {
        "id": "YZHNOKcgjors"
      },
      "execution_count": null,
      "outputs": []
    },
    {
      "cell_type": "code",
      "source": [
        "#Load the model \n",
        "loaded_model_1 = ResNet18(input_shape=3,\n",
        "                        hidden_units=24,\n",
        "                        output_shape=len(class_names))\n"
      ],
      "metadata": {
        "id": "ow4gH4IfiSZT"
      },
      "execution_count": null,
      "outputs": []
    },
    {
      "cell_type": "code",
      "source": [
        "loaded_model_1.load_state_dict(torch.load(f=MODEL_SAVE_PATH))\n",
        "loaded_model_1"
      ],
      "metadata": {
        "id": "hyuHGeaLjWre"
      },
      "execution_count": null,
      "outputs": []
    },
    {
      "cell_type": "code",
      "source": [
        "#Send the model to target device \n",
        "model_1.to(device)"
      ],
      "metadata": {
        "id": "lm9oDna_j4-y"
      },
      "execution_count": null,
      "outputs": []
    },
    {
      "cell_type": "code",
      "source": [
        "image, label = test_data[20]"
      ],
      "metadata": {
        "id": "izpzpwrjqh24"
      },
      "execution_count": null,
      "outputs": []
    },
    {
      "cell_type": "code",
      "source": [
        "plt.imshow(image.permute(1,2,0))\n",
        "plt.title(class_names[label])\n",
        "plt.axis(False)"
      ],
      "metadata": {
        "id": "HpVGF1vtqnG6"
      },
      "execution_count": null,
      "outputs": []
    },
    {
      "cell_type": "code",
      "source": [
        "logits = model_1(image.to(device).unsqueeze(0))\n",
        "logits"
      ],
      "metadata": {
        "id": "pe0UtZfg5noe"
      },
      "execution_count": null,
      "outputs": []
    },
    {
      "cell_type": "code",
      "source": [
        "pred_prob = torch.softmax(logits,dim=1)\n",
        "pred_prob"
      ],
      "metadata": {
        "id": "PV1R6Qwa7kkd"
      },
      "execution_count": null,
      "outputs": []
    },
    {
      "cell_type": "code",
      "source": [
        "pred = torch.argmax(pred_prob,dim=1)\n",
        "pred"
      ],
      "metadata": {
        "id": "CXN_2_t77syt"
      },
      "execution_count": null,
      "outputs": []
    },
    {
      "cell_type": "code",
      "source": [
        "class_names[pred]"
      ],
      "metadata": {
        "id": "hm8epUkP8DCh"
      },
      "execution_count": null,
      "outputs": []
    },
    {
      "cell_type": "code",
      "source": [
        "def make_predictions(model: torch.nn.Module,\n",
        "                     data: list,\n",
        "                     device: torch.device = device):\n",
        "  preds = []\n",
        "  for image in data:\n",
        "    logits = model(image.to(device).unsqueeze(0))\n",
        "    pred_prob = torch.softmax(logits,dim=1)\n",
        "    pred = torch.argmax(pred_prob,dim=1)\n",
        "    preds.append(pred)\n",
        "\n",
        "  return preds\n"
      ],
      "metadata": {
        "id": "tYWC5U5s8w2N"
      },
      "execution_count": null,
      "outputs": []
    },
    {
      "cell_type": "code",
      "source": [
        "import random \n",
        "\n",
        "test_samples = []\n",
        "test_labels = []\n",
        "\n",
        "for sample, label in random.sample(list(test_data),k=9):\n",
        "  test_samples.append(sample)\n",
        "  test_labels.append(label)"
      ],
      "metadata": {
        "id": "WLPNjiRDCuX2"
      },
      "execution_count": null,
      "outputs": []
    },
    {
      "cell_type": "code",
      "source": [
        "preds = make_predictions(model=model_1,\n",
        "                             data=test_samples)\n",
        "preds"
      ],
      "metadata": {
        "id": "cXkzakx9i-IM"
      },
      "execution_count": null,
      "outputs": []
    },
    {
      "cell_type": "code",
      "source": [
        "#Plot predictions \n",
        "plt.figure(figsize=(9,9))\n",
        "nrows = 3 \n",
        "ncols = 3 \n",
        "for i, sample in enumerate(test_samples):\n",
        "  #create subplot \n",
        "  plt.subplot(nrows,ncols,i+1)\n",
        "  #plot target image \n",
        "  plt.imshow(sample.permute(1,2,0))\n",
        "  #find the prediction label in text form\n",
        "  pred_label = class_names[preds[i]]\n",
        "  # Get the truth label in text form \n",
        "  truth_label = class_names[test_labels[i]]\n",
        "  #Create a title for the plot \n",
        "  title_text = f\"Pred : {pred_label} | Truth: {truth_label}\"\n",
        "  #Check for equality between pred and truth and color of title text\n",
        "  if pred_label == truth_label: \n",
        "    plt.title(title_text,fontsize=10,c=\"g\")\n",
        "  else: \n",
        "    plt.title(title_text,fontsize=10,c=\"r\")\n",
        "  plt.axis(False)"
      ],
      "metadata": {
        "id": "e42e0iZkoJL4"
      },
      "execution_count": null,
      "outputs": []
    },
    {
      "cell_type": "code",
      "source": [],
      "metadata": {
        "id": "XX32vzZwoo8o"
      },
      "execution_count": null,
      "outputs": []
    }
  ]
}